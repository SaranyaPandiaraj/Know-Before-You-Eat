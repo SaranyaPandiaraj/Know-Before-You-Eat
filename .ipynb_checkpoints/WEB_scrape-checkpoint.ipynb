{
 "cells": [
  {
   "cell_type": "code",
   "execution_count": 9,
   "metadata": {},
   "outputs": [],
   "source": [
    "from splinter import Browser\n",
    "from bs4 import BeautifulSoup\n",
    "import pandas as pd\n",
    "import requests\n",
    "import os"
   ]
  },
  {
   "cell_type": "code",
   "execution_count": 6,
   "metadata": {},
   "outputs": [],
   "source": [
    "food_calories = pd.read_csv(os.path.join(\"static\",\"food_list\", \"Food_calories.csv\"),index_col=False)"
   ]
  },
  {
   "cell_type": "code",
   "execution_count": 10,
   "metadata": {},
   "outputs": [],
   "source": [
    "data=\"apple pie\""
   ]
  },
  {
   "cell_type": "code",
   "execution_count": 11,
   "metadata": {},
   "outputs": [],
   "source": [
    "if data==\"beef carpaccio\":\n",
    "    data=\"carpaccio\"\n",
    "elif data==\"cheese plate\":\n",
    "    data=\"cheese\"\n",
    "elif data==\"chicken quesadilla\":\n",
    "    data=\"quesadilla\"\n",
    "elif data==\"chicken wings\":\n",
    "    data=\"Buffalo wing\"\n",
    "elif data==\"grilled salmon\":\n",
    "    data=\"Salmon#As_food\"    \n",
    "elif data==\"lobster roll sandwich\":\n",
    "    data=\"lobster roll\" \n",
    "elif data==\"strawberry shortcake\":\n",
    "    data=\"Shortcake#Strawberry_shortcake\"\n",
    "\n",
    "path={'executable_path':'/usr/local/bin/chromedriver'}\n",
    "browser=Browser('chrome',**path,headless=False)\n",
    "\n",
    "if data==\"tuna tartare\":\n",
    "    url=\"http://ahealthylifeforme.com/tuna-tartare-recipe/\"\n",
    "    browser.visit(url)\n",
    "    html=browser.html\n",
    "    soup=BeautifulSoup(html,\"html.parser\")\n",
    "    var=soup.select_one('div.entry-content')\n",
    "    description=var.select('p')\n",
    "else:\n",
    "    url=\"https://en.wikipedia.org/wiki/\"\n",
    "    browser.visit(url+data)\n",
    "    html=browser.html\n",
    "    soup=BeautifulSoup(html,\"html.parser\")\n",
    "    var=soup.select_one('div.mw-parser-output')\n",
    "    description=var.select('p')"
   ]
  },
  {
   "cell_type": "code",
   "execution_count": 12,
   "metadata": {},
   "outputs": [
    {
     "data": {
      "text/plain": [
       "'An apple pie is a pie in which the principal filling ingredient is apple. It is often served with whipped cream, ice cream (\"apple pie à la mode\"), or cheddar cheese.[3] It is generally double-crusted, with pastry both above and below the filling; the upper crust may be solid or latticed (woven of crosswise strips). The bottom crust may be baked separately (\"blind\") to prevent it from getting soggy.[4] Deep-dish apple pie often has a top crust only and tarte Tatin is baked with the crust on top, but served with it on the bottom.\\n'"
      ]
     },
     "execution_count": 12,
     "metadata": {},
     "output_type": "execute_result"
    }
   ],
   "source": [
    "if (data==\"greek salad\" or data==\"oysters\" or data==\"paella\"):    \n",
    "    output=description[1].text\n",
    "elif (data==\"mussels\" or data==\"scallops\"):\n",
    "    output=description[2].text\n",
    "elif data==\"Salmon#As_food\":\n",
    "    output=description[3].text        \n",
    "else:\n",
    "    if description[0].text!='\\n':\n",
    "        output=description[0].text    \n",
    "    elif description[0].text=='\\n' and description[1].text!='\\n':\n",
    "        output=description[1].text\n",
    "    elif description[1].text=='\\n' and description[2].text!='\\n':\n",
    "        output=description[2].text\n",
    "output"
   ]
  },
  {
   "cell_type": "code",
   "execution_count": null,
   "metadata": {},
   "outputs": [],
   "source": [
    "if data==\"beef carpaccio\":\n",
    "    data=\"carpaccio\"\n",
    "elif data==\"cheese plate\":\n",
    "    data=\"cheese\"\n",
    "elif data==\"chicken quesadilla\":\n",
    "    data=\"quesadilla\"\n",
    "elif data==\"chicken wings\":\n",
    "    data=\"Buffalo wing\"\n",
    "elif data==\"grilled salmon\":\n",
    "    data=\"Salmon#As_food\"    \n",
    "elif data==\"lobster roll sandwich\":\n",
    "    data=\"lobster roll\" \n",
    "elif data==\"strawberry shortcake\":\n",
    "    data=\"Shortcake#Strawberry_shortcake\"\n",
    "\n",
    "path={'executable_path':'/usr/local/bin/chromedriver'}\n",
    "browser=Browser('chrome',**path,headless=False)\n",
    "\n",
    "if data==\"tuna tartare\":\n",
    "    url=\"http://ahealthylifeforme.com/tuna-tartare-recipe/\"\n",
    "    browser.visit(url)\n",
    "    html=browser.html\n",
    "    soup=BeautifulSoup(html,\"html.parser\")\n",
    "    var=soup.select_one('div.entry-content')\n",
    "    description=var.select('p')\n",
    "else:\n",
    "    url=\"https://en.wikipedia.org/wiki/\"\n",
    "    browser.visit(url+data)\n",
    "    html=browser.html\n",
    "    soup=BeautifulSoup(html,\"html.parser\")\n",
    "    var=soup.select_one('table.infobox')\n",
    "    nutri=var.select('p')"
   ]
  }
 ],
 "metadata": {
  "kernelspec": {
   "display_name": "Python 3",
   "language": "python",
   "name": "python3"
  },
  "language_info": {
   "codemirror_mode": {
    "name": "ipython",
    "version": 3
   },
   "file_extension": ".py",
   "mimetype": "text/x-python",
   "name": "python",
   "nbconvert_exporter": "python",
   "pygments_lexer": "ipython3",
   "version": "3.7.6"
  },
  "varInspector": {
   "cols": {
    "lenName": 16,
    "lenType": 16,
    "lenVar": 40
   },
   "kernels_config": {
    "python": {
     "delete_cmd_postfix": "",
     "delete_cmd_prefix": "del ",
     "library": "var_list.py",
     "varRefreshCmd": "print(var_dic_list())"
    },
    "r": {
     "delete_cmd_postfix": ") ",
     "delete_cmd_prefix": "rm(",
     "library": "var_list.r",
     "varRefreshCmd": "cat(var_dic_list()) "
    }
   },
   "types_to_exclude": [
    "module",
    "function",
    "builtin_function_or_method",
    "instance",
    "_Feature"
   ],
   "window_display": false
  }
 },
 "nbformat": 4,
 "nbformat_minor": 2
}
