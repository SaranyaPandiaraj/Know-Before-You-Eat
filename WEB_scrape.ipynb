{
 "cells": [
  {
   "cell_type": "code",
   "execution_count": 2,
   "metadata": {},
   "outputs": [],
   "source": [
    "from splinter import Browser\n",
    "from bs4 import BeautifulSoup\n",
    "import pandas as pd\n",
    "import requests"
   ]
  },
  {
   "cell_type": "code",
   "execution_count": 167,
   "metadata": {},
   "outputs": [],
   "source": [
    "data=\"omelette\""
   ]
  },
  {
   "cell_type": "code",
   "execution_count": 168,
   "metadata": {},
   "outputs": [],
   "source": [
    "if data==\"beef carpaccio\":\n",
    "    data=\"carpaccio\"\n",
    "elif data==\"cheese plate\":\n",
    "    data=\"cheese\"\n",
    "elif data==\"chicken quesadilla\":\n",
    "    data=\"quesadilla\"\n",
    "elif data==\"beet salad\":\n",
    "    data=\"rosolli\"\n",
    "elif data==\"scallops\":\n",
    "    data=\"smoked scallop\"\n",
    "elif data==\"chicken wings\":\n",
    "    data=\"Buffalo wing\"\n",
    "elif data==\"grilled salmon\":\n",
    "    data=\"Salmon#As_food\"    \n",
    "elif data==\"lobster roll sandwich\":\n",
    "    data=\"lobster roll\" \n",
    "elif data==\"strawberry shortcake\":\n",
    "    data=\"Shortcake#Strawberry_shortcake\"\n",
    "\n",
    "path={'executable_path':'/usr/local/bin/chromedriver'}\n",
    "browser=Browser('chrome',**path,headless=False)\n",
    "\n",
    "if data==\"tuna tartare\":\n",
    "    url=\"http://ahealthylifeforme.com/tuna-tartare-recipe/\"\n",
    "    browser.visit(url)\n",
    "    html=browser.html\n",
    "    soup=BeautifulSoup(html,\"html.parser\")\n",
    "    var=soup.select_one('div.entry-content')\n",
    "    description=var.select('p')\n",
    "else:\n",
    "    url=\"https://en.wikipedia.org/wiki/\"\n",
    "    browser.visit(url+data)\n",
    "    html=browser.html\n",
    "    soup=BeautifulSoup(html,\"html.parser\")\n",
    "    var=soup.select_one('div.mw-parser-output')\n",
    "    description=var.select('p')"
   ]
  },
  {
   "cell_type": "code",
   "execution_count": 169,
   "metadata": {},
   "outputs": [
    {
     "data": {
      "text/plain": [
       "'The earliest omelettes are believed to have originated in ancient Persia.[1][2]:65 According to Breakfast: A History, they were \"nearly indistinguishable\" from the Iranian dish kookoo sabzi.[2]\\n'"
      ]
     },
     "execution_count": 169,
     "metadata": {},
     "output_type": "execute_result"
    }
   ],
   "source": [
    "if (data==\"greek salad\" or data==\"oysters\" or data==\"smoked scallop\" or data==\"paella\"):    \n",
    "    output=description[1].text\n",
    "elif data==\"mussels\":\n",
    "    output=description[2].text\n",
    "elif data==\"Salmon#As_food\":\n",
    "    output=description[3].text        \n",
    "else:\n",
    "    if description[0].text!='\\n':\n",
    "        output=description[0].text    \n",
    "    elif description[0].text=='\\n' and description[1].text!='\\n':\n",
    "        output=description[1].text\n",
    "    elif description[1].text=='\\n' and description[2].text!='\\n':\n",
    "        output=description[2].text\n",
    "output"
   ]
  },
  {
   "cell_type": "code",
   "execution_count": null,
   "metadata": {},
   "outputs": [],
   "source": []
  }
 ],
 "metadata": {
  "kernelspec": {
   "display_name": "Python 3",
   "language": "python",
   "name": "python3"
  },
  "language_info": {
   "codemirror_mode": {
    "name": "ipython",
    "version": 3
   },
   "file_extension": ".py",
   "mimetype": "text/x-python",
   "name": "python",
   "nbconvert_exporter": "python",
   "pygments_lexer": "ipython3",
   "version": "3.7.2"
  },
  "varInspector": {
   "cols": {
    "lenName": 16,
    "lenType": 16,
    "lenVar": 40
   },
   "kernels_config": {
    "python": {
     "delete_cmd_postfix": "",
     "delete_cmd_prefix": "del ",
     "library": "var_list.py",
     "varRefreshCmd": "print(var_dic_list())"
    },
    "r": {
     "delete_cmd_postfix": ") ",
     "delete_cmd_prefix": "rm(",
     "library": "var_list.r",
     "varRefreshCmd": "cat(var_dic_list()) "
    }
   },
   "types_to_exclude": [
    "module",
    "function",
    "builtin_function_or_method",
    "instance",
    "_Feature"
   ],
   "window_display": false
  }
 },
 "nbformat": 4,
 "nbformat_minor": 2
}
