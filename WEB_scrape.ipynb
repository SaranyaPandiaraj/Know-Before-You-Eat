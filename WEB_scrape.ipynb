{
 "cells": [
  {
   "cell_type": "code",
   "execution_count": 5,
   "metadata": {},
   "outputs": [],
   "source": [
    "from splinter import Browser\n",
    "from bs4 import BeautifulSoup\n",
    "import pandas as pd\n",
    "import requests\n",
    "import os"
   ]
  },
  {
   "cell_type": "code",
   "execution_count": 6,
   "metadata": {},
   "outputs": [],
   "source": [
    "food_calories = pd.read_csv(os.path.join(\"static\",\"food_list\", \"Food_calories.csv\"),index_col=False)"
   ]
  },
  {
   "cell_type": "code",
   "execution_count": 7,
   "metadata": {},
   "outputs": [],
   "source": [
    "data="
   ]
  },
  {
   "cell_type": "code",
   "execution_count": 8,
   "metadata": {},
   "outputs": [
    {
     "ename": "ValueError",
     "evalue": "The truth value of a Series is ambiguous. Use a.empty, a.bool(), a.item(), a.any() or a.all().",
     "output_type": "error",
     "traceback": [
      "\u001b[0;31m---------------------------------------------------------------------------\u001b[0m",
      "\u001b[0;31mValueError\u001b[0m                                Traceback (most recent call last)",
      "\u001b[0;32m<ipython-input-8-1a1972614b2f>\u001b[0m in \u001b[0;36m<module>\u001b[0;34m\u001b[0m\n\u001b[0;32m----> 1\u001b[0;31m \u001b[0;32mif\u001b[0m \u001b[0mdata\u001b[0m\u001b[0;34m==\u001b[0m\u001b[0;34m\"beef carpaccio\"\u001b[0m\u001b[0;34m:\u001b[0m\u001b[0;34m\u001b[0m\u001b[0;34m\u001b[0m\u001b[0m\n\u001b[0m\u001b[1;32m      2\u001b[0m     \u001b[0mdata\u001b[0m\u001b[0;34m=\u001b[0m\u001b[0;34m\"carpaccio\"\u001b[0m\u001b[0;34m\u001b[0m\u001b[0;34m\u001b[0m\u001b[0m\n\u001b[1;32m      3\u001b[0m \u001b[0;32melif\u001b[0m \u001b[0mdata\u001b[0m\u001b[0;34m==\u001b[0m\u001b[0;34m\"cheese plate\"\u001b[0m\u001b[0;34m:\u001b[0m\u001b[0;34m\u001b[0m\u001b[0;34m\u001b[0m\u001b[0m\n\u001b[1;32m      4\u001b[0m     \u001b[0mdata\u001b[0m\u001b[0;34m=\u001b[0m\u001b[0;34m\"cheese\"\u001b[0m\u001b[0;34m\u001b[0m\u001b[0;34m\u001b[0m\u001b[0m\n\u001b[1;32m      5\u001b[0m \u001b[0;32melif\u001b[0m \u001b[0mdata\u001b[0m\u001b[0;34m==\u001b[0m\u001b[0;34m\"chicken quesadilla\"\u001b[0m\u001b[0;34m:\u001b[0m\u001b[0;34m\u001b[0m\u001b[0;34m\u001b[0m\u001b[0m\n",
      "\u001b[0;32m~/.pyenv/versions/3.7.6/lib/python3.7/site-packages/pandas/core/generic.py\u001b[0m in \u001b[0;36m__nonzero__\u001b[0;34m(self)\u001b[0m\n\u001b[1;32m   1553\u001b[0m             \u001b[0;34m\"The truth value of a {0} is ambiguous. \"\u001b[0m\u001b[0;34m\u001b[0m\u001b[0;34m\u001b[0m\u001b[0m\n\u001b[1;32m   1554\u001b[0m             \"Use a.empty, a.bool(), a.item(), a.any() or a.all().\".format(\n\u001b[0;32m-> 1555\u001b[0;31m                 \u001b[0mself\u001b[0m\u001b[0;34m.\u001b[0m\u001b[0m__class__\u001b[0m\u001b[0;34m.\u001b[0m\u001b[0m__name__\u001b[0m\u001b[0;34m\u001b[0m\u001b[0;34m\u001b[0m\u001b[0m\n\u001b[0m\u001b[1;32m   1556\u001b[0m             )\n\u001b[1;32m   1557\u001b[0m         )\n",
      "\u001b[0;31mValueError\u001b[0m: The truth value of a Series is ambiguous. Use a.empty, a.bool(), a.item(), a.any() or a.all()."
     ]
    }
   ],
   "source": [
    "if data==\"beef carpaccio\":\n",
    "    data=\"carpaccio\"\n",
    "elif data==\"cheese plate\":\n",
    "    data=\"cheese\"\n",
    "elif data==\"chicken quesadilla\":\n",
    "    data=\"quesadilla\"\n",
    "elif data==\"chicken wings\":\n",
    "    data=\"Buffalo wing\"\n",
    "elif data==\"grilled salmon\":\n",
    "    data=\"Salmon#As_food\"    \n",
    "elif data==\"lobster roll sandwich\":\n",
    "    data=\"lobster roll\" \n",
    "elif data==\"strawberry shortcake\":\n",
    "    data=\"Shortcake#Strawberry_shortcake\"\n",
    "\n",
    "path={'executable_path':'/usr/local/bin/chromedriver'}\n",
    "browser=Browser('chrome',**path,headless=False)\n",
    "\n",
    "if data==\"tuna tartare\":\n",
    "    url=\"http://ahealthylifeforme.com/tuna-tartare-recipe/\"\n",
    "    browser.visit(url)\n",
    "    html=browser.html\n",
    "    soup=BeautifulSoup(html,\"html.parser\")\n",
    "    var=soup.select_one('div.entry-content')\n",
    "    description=var.select('p')\n",
    "else:\n",
    "    url=\"https://en.wikipedia.org/wiki/\"\n",
    "    browser.visit(url+data)\n",
    "    html=browser.html\n",
    "    soup=BeautifulSoup(html,\"html.parser\")\n",
    "    var=soup.select_one('div.mw-parser-output')\n",
    "    description=var.select('p')"
   ]
  },
  {
   "cell_type": "code",
   "execution_count": 515,
   "metadata": {},
   "outputs": [
    {
     "data": {
      "text/plain": [
       "'Tuna tartare\\xa0recipe is a dish made from raw tuna that has been cut into small pieces before serving. It can be chopped, cut into chunks, or sliced. Tuna served tartare style is similar to tuna sashimi, except that sashimi is more often cut into evenly sized slices or chunks. Tuna Tartare is a dish that always has a little soy and citrus juice to act as a cooking agent and an Asian-infused flavor emerges.'"
      ]
     },
     "execution_count": 515,
     "metadata": {},
     "output_type": "execute_result"
    }
   ],
   "source": [
    "if (data==\"greek salad\" or data==\"oysters\" or data==\"paella\"):    \n",
    "    output=description[1].text\n",
    "elif (data==\"mussels\" or data==\"scallops\"):\n",
    "    output=description[2].text\n",
    "elif data==\"Salmon#As_food\":\n",
    "    output=description[3].text        \n",
    "else:\n",
    "    if description[0].text!='\\n':\n",
    "        output=description[0].text    \n",
    "    elif description[0].text=='\\n' and description[1].text!='\\n':\n",
    "        output=description[1].text\n",
    "    elif description[1].text=='\\n' and description[2].text!='\\n':\n",
    "        output=description[2].text\n",
    "output"
   ]
  }
 ],
 "metadata": {
  "kernelspec": {
   "display_name": "Python 3",
   "language": "python",
   "name": "python3"
  },
  "language_info": {
   "codemirror_mode": {
    "name": "ipython",
    "version": 3
   },
   "file_extension": ".py",
   "mimetype": "text/x-python",
   "name": "python",
   "nbconvert_exporter": "python",
   "pygments_lexer": "ipython3",
   "version": "3.7.6"
  },
  "varInspector": {
   "cols": {
    "lenName": 16,
    "lenType": 16,
    "lenVar": 40
   },
   "kernels_config": {
    "python": {
     "delete_cmd_postfix": "",
     "delete_cmd_prefix": "del ",
     "library": "var_list.py",
     "varRefreshCmd": "print(var_dic_list())"
    },
    "r": {
     "delete_cmd_postfix": ") ",
     "delete_cmd_prefix": "rm(",
     "library": "var_list.r",
     "varRefreshCmd": "cat(var_dic_list()) "
    }
   },
   "types_to_exclude": [
    "module",
    "function",
    "builtin_function_or_method",
    "instance",
    "_Feature"
   ],
   "window_display": false
  }
 },
 "nbformat": 4,
 "nbformat_minor": 2
}
